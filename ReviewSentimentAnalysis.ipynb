{
 "cells": [
  {
   "cell_type": "code",
   "execution_count": 25,
   "id": "41091687-4069-4fd3-96e5-e6a9de0dc2e3",
   "metadata": {
    "scrolled": true
   },
   "outputs": [],
   "source": [
    "#Initialization of variables \n",
    "\n",
    "from openai import OpenAI\n",
    "\n",
    "# Initialize OpenAI client\n",
    "client = OpenAI()\n",
    "\n",
    "# Define product reviews\n",
    "reviews_product1 = [\n",
    "    \"It’s super soft and squishy. It was a birthday present for a friend, and she loved it\",\n",
    "    \"Cute plushie! Got for my little brothers birthday. He loved it. Little hat is precious\",\n",
    "    \"When a 'dinosaur with a party hat' was requested as a birthday gift this for the request perfectly. The quality is not the greatest and the seams are already starting to pull apart a little bit. However the birthday boy still loves it!\",\n",
    "    \"Cute Plushie. Very soft.\",\n",
    "    \"Kids had fun it’s soft but the threading is coming loose\",\n",
    "    \"Came vacuum sealed and because it was a gift I didn’t open it until right before the event. Unfortunately the material seam has separated and needs to be repaired. Slightly smaller than I anticipated also, but that’s probably my fault. Medium softness.\",\n",
    "    \"It’s cute in all but really small for the price\",\n",
    "    \"Odd smell, over priced garbage from China\",\n",
    "    \"Item does not have as much fluff, and is not giftable as it is air sucked In a bag horrible presentation for gift and when opened it has 0 tags\"\n",
    "]\n",
    "\n",
    "reviews_product2 = [\n",
    "    \"The color is nice, craftsmanship was sturdy, Seams were straight, the fabric has a nice hand and is touchable. This is a unique sofa/couch, it's bold, colorful, with a very modern flare. Use it as your statement piece or as an accent piece in a favorite room. Communications to make arrangements for delivery were notable superior and pleasant.\"\n",
    "]\n",
    "\n",
    "reviews_product3 = [\n",
    "    \"Slight bit too big, but there was no in between size so I chose large. I wear a size 10 to 12 in pants, it just depends on the pants for the size. I got a lot of compliments on it. It was very vibrant in colors. And just know that it's tights not leggings, when you buy this outfit. I loved it though.\",\n",
    "    \"Loved the colors. Ordered a large, dress has lots of room, could have gone down a size. The leggings are super thin and transparent, also too tight! Did not fit well. The arm parts have elastic at top that are a bit tight.\",\n",
    "    \"Cheap looking. Tights were like an xs with a large top\",\n",
    "    \"Easy and comfy to wear. The black lining under the tutu made it easy to use the bathroom, ha ha. Seriously though. Had to pull up the hose up to my waist to not feel the itchiness from the tulle where it was sewed to the top piece. Arrived just in time for Halloween as expected. Loved it!\",\n",
    "    \"I'm 5'5 110 pounds. I ordered the medium size. The top is huge and the 'pants' are black footless stockings: be careful putting them on as they are the regular run type of dress/skirt stockings. They are not leggings. Yes they are kinda see through because they are stockings not leggings and they run VERY small. The stockings fit my 7-year-old daughter and the 'top' aka dress is huge on me. But I'll make it work lol. It's a cute outfit though!\",\n",
    "    \"I’m 5’8, 166 lbs and I bought the medium, I loved my costume, loved the bright colors, it’s actually a dress which comes with leggings but the leggings are really thin, like stockings, I had to wear black leggings and then put the sheer leggings on it, but it worked out great\",\n",
    "    \"The product looks just like the image. Fun and bright, lots of compliments. Comfortable to wear.\"\n",
    "]\n",
    "\n",
    "# Initialize list to hold sentiment scores\n",
    "sentiment_scores_product1 = []\n",
    "sentiment_scores_product2 = []\n",
    "sentiment_scores_product3 = []\n",
    "\n",
    "# System role for sentiment analysis\n",
    "system_prompt = \"You are an advanced AI capable of gauging human sentiment into Positive, Negative and Neutral categories and providing a single integer sentiment score from 1 to 5 along with a rationale. The sentiment score should be formatted as a single integer, do not use fractions or any other format.\""
   ]
  },
  {
   "cell_type": "code",
   "execution_count": 27,
   "id": "805e01b4-449d-4c10-b724-767147d39e24",
   "metadata": {},
   "outputs": [
    {
     "name": "stdout",
     "output_type": "stream",
     "text": [
      "Review: It’s super soft and squishy. It was a birthday present for a friend, and she loved it\n",
      "Analysis Result: Sentiment Score: 5\n",
      "\n",
      "Rationale: The statement is overwhelmingly positive, expressing admiration for the softness and squishiness of the gift and the recipient's joy upon receiving it. The use of words like \"loved\" and \"birthday present\" indicates a high level of satisfaction and happiness.\n",
      "\n",
      "Review: Cute plushie! Got for my little brothers birthday. He loved it. Little hat is precious\n",
      "Analysis Result: Sentiment Score: 5\n",
      "\n",
      "Rationale: The text contains positive words such as \"cute,\" \"loved,\" and \"precious,\" indicating a high level of positivity. The overall sentiment is very positive as the plushie was well-received and appreciated by the user's little brother, contributing to the sentiment score of 5.\n",
      "\n",
      "Review: When a 'dinosaur with a party hat' was requested as a birthday gift this for the request perfectly. The quality is not the greatest and the seams are already starting to pull apart a little bit. However the birthday boy still loves it!\n",
      "Analysis Result: Sentiment Score: 3\n",
      "\n",
      "Rationale: The overall sentiment is slightly positive as the birthday boy still loves the gift despite its shortcomings in quality. The enthusiasm for the unique request and the recipient's happiness contribute to a neutral to slightly positive sentiment.\n",
      "\n",
      "Review: Cute Plushie. Very soft.\n",
      "Analysis Result: Sentiment Score: 5\n",
      "\n",
      "Rationale: The user's statement is positive, indicating an appreciation for the plushie being cute and very soft. The use of \"cute\" and \"very soft\" shows admiration and satisfaction, warranting a high sentiment score of 5.\n",
      "\n",
      "Review: Kids had fun it’s soft but the threading is coming loose\n",
      "Analysis Result: Sentiment: 3\n",
      "\n",
      "Rationale: The statement contains both positive and negative elements. The positive aspect is that the kids had fun, indicating a positive experience. However, the negative aspect of the threading coming loose detracts from the overall sentiment. Hence, considering both positive and negative elements, the sentiment score is neutral.\n",
      "\n",
      "Review: Came vacuum sealed and because it was a gift I didn’t open it until right before the event. Unfortunately the material seam has separated and needs to be repaired. Slightly smaller than I anticipated also, but that’s probably my fault. Medium softness.\n",
      "Analysis Result: Sentiment Score: 2\n",
      "\n",
      "Rationale: The overall sentiment seems to be negative due to receiving a defective item, with the material seam separating and needing repair. Additionally, there is a slight disappointment in the size being smaller than expected. The mention of \"medium softness\" indicates a mediocre experience, contributing to a generally negative sentiment.\n",
      "\n",
      "Review: It’s cute in all but really small for the price\n",
      "Analysis Result: Sentiment Score: 2\n",
      "\n",
      "Rationale: The statement contains both positive and negative elements. The mention of something being cute suggests a positive sentiment, but the criticism about the size being too small for the price indicates a negative sentiment. Overall, the sentiment score is 2 because the negative aspect outweighs the positive aspect in this context.\n",
      "\n",
      "Review: Odd smell, over priced garbage from China\n",
      "Analysis Result: Sentiment Score: 1\n",
      "\n",
      "Rationale: The user's description of the product is overwhelmingly negative, citing an odd smell and being overpriced garbage from China. The choice of words clearly conveys disappointment and dissatisfaction, resulting in a sentiment score of 1.\n",
      "\n",
      "Review: Item does not have as much fluff, and is not giftable as it is air sucked In a bag horrible presentation for gift and when opened it has 0 tags\n",
      "Analysis Result: Sentiment Score: 2\n",
      "\n",
      "Rationale: The comment expresses negativity towards the presentation of the item, mentioning it lacks fluff, is not giftable, and has poor packaging without any tags. These aspects would likely lead to disappointment for a gift recipient, indicating a negative sentiment overall.\n",
      "\n"
     ]
    }
   ],
   "source": [
    "#Product 1 \n",
    "\n",
    "# Process each review\n",
    "for review in reviews_product1:\n",
    "    response = client.chat.completions.create(\n",
    "        model=\"gpt-3.5-turbo\",\n",
    "        messages=[\n",
    "            {\"role\": \"system\", \"content\": system_prompt},\n",
    "            {\"role\": \"user\", \"content\": review}\n",
    "        ]\n",
    "    )\n",
    "    # Extracting the sentiment analysis result\n",
    "    result1 = response.choices[0].message.content\n",
    "\n",
    "    score = parse_sentiment_score(result1)\n",
    "    if score is not None:\n",
    "        sentiment_scores_product1.append(score)\n",
    "    \n",
    "    print(f\"Review: {review}\")\n",
    "    print(f\"Analysis Result: {result1}\\n\")"
   ]
  },
  {
   "cell_type": "code",
   "execution_count": 17,
   "id": "00b689d8-0ccb-4199-9812-50d57ce27525",
   "metadata": {},
   "outputs": [
    {
     "name": "stdout",
     "output_type": "stream",
     "text": [
      "Sentiment Score: 3\n"
     ]
    }
   ],
   "source": [
    "import re\n",
    "\n",
    "def parse_sentiment_score(text):\n",
    "    # Regex pattern to find \"Sentiment Score:\" followed by any number of spaces and one or more digits\n",
    "    match = re.search(r\"Sentiment Score:\\s*(\\d+)\", text)\n",
    "    if match:\n",
    "        # Return the captured sentiment score, converted to an integer\n",
    "        return int(match.group(1))\n",
    "    else:\n",
    "        # Return None if no score is found\n",
    "        return None\n",
    "\n",
    "# Testing the function\n",
    "test_text1 = \"Review: When a 'dinosaur with a party hat' was requested as a birthday gift this for the request perfectly. The quality is not the greatest and the seams are already starting to pull apart a little bit. However, the birthday boy still loves it! Analysis Result: Sentiment: Positive Sentiment Score: 3 Rationale: The sentiment is positive as the birthday boy still loves the gift despite the quality issues mentioned. The fact that the boy enjoys it outweighs the quality concerns, resulting in a neutral sentiment score of 3.\"\n",
    "\n",
    "score1 = parse_sentiment_score(test_text1)\n",
    "print(\"Sentiment Score:\", score1)"
   ]
  },
  {
   "cell_type": "code",
   "execution_count": 28,
   "id": "595633b4",
   "metadata": {},
   "outputs": [
    {
     "name": "stdout",
     "output_type": "stream",
     "text": [
      "Average Sentiment Score: 3.125\n"
     ]
    }
   ],
   "source": [
    "# Compute the average sentiment score\n",
    "if sentiment_scores_product1:\n",
    "    average_score = sum(sentiment_scores_product1) / len(sentiment_scores_product1)\n",
    "    print(\"Average Sentiment Score:\", average_score)\n",
    "else:\n",
    "    print(\"No sentiment scores were extracted.\")"
   ]
  },
  {
   "cell_type": "code",
   "execution_count": 29,
   "id": "10252467-95b6-4840-b2f8-b618dae807b3",
   "metadata": {},
   "outputs": [
    {
     "name": "stdout",
     "output_type": "stream",
     "text": [
      "Review: The color is nice, craftsmanship was sturdy, Seams were straight, the fabric has a nice hand and is touchable. This is a unique sofa/couch, it's bold, colorful, with a very modern flare. Use it as your statement piece or as an accent piece in a favorite room. Communications to make arrangements for delivery were notable superior and pleasant.\n",
      "Analysis Result: Sentiment Score: 5\n",
      "\n",
      "Rationale: The review is overwhelmingly positive with praise for the color, craftsmanship, fabric quality, design, and customer service. The language used is highly complimentary and enthusiastic, highlighting various aspects of the sofa/couch that are appreciated. The reviewer indicates satisfaction with both the physical attributes of the product and the overall customer experience, resulting in a sentiment score of 5.\n",
      "\n"
     ]
    }
   ],
   "source": [
    "#Product 2 \n",
    "\n",
    "# Process each review\n",
    "for review in reviews_product2:\n",
    "    response = client.chat.completions.create(\n",
    "        model=\"gpt-3.5-turbo\",\n",
    "        messages=[\n",
    "            {\"role\": \"system\", \"content\": system_prompt},\n",
    "            {\"role\": \"user\", \"content\": review}\n",
    "        ]\n",
    "    )\n",
    "    # Extracting the sentiment analysis result\n",
    "    result2 = response.choices[0].message.content\n",
    "\n",
    "    score = parse_sentiment_score(result2)\n",
    "    if score is not None:\n",
    "        sentiment_scores_product2.append(score)\n",
    "    \n",
    "    print(f\"Review: {review}\")\n",
    "    print(f\"Analysis Result: {result2}\\n\")"
   ]
  },
  {
   "cell_type": "code",
   "execution_count": 30,
   "id": "cff157ce-a405-40da-b27d-ed84be8213a1",
   "metadata": {},
   "outputs": [
    {
     "name": "stdout",
     "output_type": "stream",
     "text": [
      "Average Sentiment Score: 5.0\n"
     ]
    }
   ],
   "source": [
    "# Compute the average sentiment score\n",
    "if sentiment_scores_product2:\n",
    "    average_score = sum(sentiment_scores_product2) / len(sentiment_scores_product2)\n",
    "    print(\"Average Sentiment Score:\", average_score)\n",
    "else:\n",
    "    print(\"No sentiment scores were extracted.\")"
   ]
  },
  {
   "cell_type": "code",
   "execution_count": 31,
   "id": "37c9d224-9474-4102-a29d-66c3101cfef8",
   "metadata": {},
   "outputs": [
    {
     "name": "stdout",
     "output_type": "stream",
     "text": [
      "Review: Slight bit too big, but there was no in between size so I chose large. I wear a size 10 to 12 in pants, it just depends on the pants for the size. I got a lot of compliments on it. It was very vibrant in colors. And just know that it's tights not leggings, when you buy this outfit. I loved it though.\n",
      "Analysis Result: Sentiment Score: 5\n",
      "\n",
      "Rationale: The user's review contains positive sentiment throughout, expressing satisfaction with the vibrant colors, compliments received, and overall love for the outfit despite it being a bit too big in size. The user seems enthusiastic and appreciative of the item.\n",
      "\n",
      "Review: Loved the colors. Ordered a large, dress has lots of room, could have gone down a size. The leggings are super thin and transparent, also too tight! Did not fit well. The arm parts have elastic at top that are a bit tight.\n",
      "Analysis Result: Sentiment Score: 2\n",
      "\n",
      "Rationale: The overall sentiment expressed towards the dress is mixed. The user loved the colors and found that there was a lot of room in the large size, but felt that they could have sized down. However, they were dissatisfied with the thin and transparent leggings that were also too tight, along with the tightness of the elastic at the top of the arm parts. The negative feedback regarding the leggings and arm parts outweighs the positive feedback, resulting in an overall sentiment score of 2.\n",
      "\n",
      "Review: Cheap looking. Tights were like an xs with a large top\n",
      "Analysis Result: Sentiment: Negative \n",
      "Sentiment Score: 2\n",
      "Rationale: The review mentions that the product looks cheap and has a fit issue, indicating a negative experience with the purchase.\n",
      "\n",
      "Review: Easy and comfy to wear. The black lining under the tutu made it easy to use the bathroom, ha ha. Seriously though. Had to pull up the hose up to my waist to not feel the itchiness from the tulle where it was sewed to the top piece. Arrived just in time for Halloween as expected. Loved it!\n",
      "Analysis Result: Sentiment Score: 4\n",
      "\n",
      "Rationale: The overall sentiment of the review is positive for the product, with the user mentioning the comfort and convenience of wearing the item. They also appreciate the functionality of the design with the black lining under the tutu. Despite noting the slight itchiness issue with the tulle, the user seems satisfied with the product and expresses love for it. The humorous tone used also adds to the positive sentiment.\n",
      "\n",
      "Review: I'm 5'5 110 pounds. I ordered the medium size. The top is huge and the 'pants' are black footless stockings: be careful putting them on as they are the regular run type of dress/skirt stockings. They are not leggings. Yes they are kinda see through because they are stockings not leggings and they run VERY small. The stockings fit my 7-year-old daughter and the 'top' aka dress is huge on me. But I'll make it work lol. It's a cute outfit though!\n",
      "Analysis Result: Sentiment Score: 3\n",
      "\n",
      "Rationale: The review contains a mix of positive and negative aspects. The user seems to be disappointed with the size and fit of the outfit, indicating that it runs small and is not as expected. However, they also find the outfit to be cute and express a willingness to make it work despite the issues. Overall, the sentiment is somewhat neutral with a slightly positive leaning due to the user finding the outfit cute despite the sizing problems.\n",
      "\n",
      "Review: I’m 5’8, 166 lbs and I bought the medium, I loved my costume, loved the bright colors, it’s actually a dress which comes with leggings but the leggings are really thin, like stockings, I had to wear black leggings and then put the sheer leggings on it, but it worked out great\n",
      "Analysis Result: Sentiment Score: 4\n",
      "\n",
      "Rationale: The overall sentiment expressed in the text is positive. The user loved their costume, particularly highlighting the bright colors and the fact that it's a dress which comes with leggings. They found a solution to the thin leggings by wearing black leggings underneath, which worked out great for them.\n",
      "\n",
      "Review: The product looks just like the image. Fun and bright, lots of compliments. Comfortable to wear.\n",
      "Analysis Result: Sentiment Score: 5\n",
      "\n",
      "Rationale: The user's comment is filled with positive language such as \"looks just like the image\", \"fun and bright\", \"lots of compliments\", and \"comfortable to wear\". The overall sentiment is highly positive, indicating a score of 5.\n",
      "\n",
      "Average Sentiment Score: 3.5714285714285716\n"
     ]
    }
   ],
   "source": [
    "#Product 3 \n",
    "\n",
    "# Process each review\n",
    "for review in reviews_product3:\n",
    "    response = client.chat.completions.create(\n",
    "        model=\"gpt-3.5-turbo\",\n",
    "        messages=[\n",
    "            {\"role\": \"system\", \"content\": system_prompt},\n",
    "            {\"role\": \"user\", \"content\": review}\n",
    "        ]\n",
    "    )\n",
    "    # Extracting the sentiment analysis result\n",
    "    result3 = response.choices[0].message.content\n",
    "\n",
    "    score = parse_sentiment_score(result3)\n",
    "    if score is not None:\n",
    "        sentiment_scores_product3.append(score)\n",
    "    \n",
    "    print(f\"Review: {review}\")\n",
    "    print(f\"Analysis Result: {result3}\\n\")\n",
    "\n",
    "\n",
    "# Compute the average sentiment score\n",
    "if sentiment_scores_product3:\n",
    "    average_score = sum(sentiment_scores_product3) / len(sentiment_scores_product3)\n",
    "    print(\"Average Sentiment Score:\", average_score)\n",
    "else:\n",
    "    print(\"No sentiment scores were extracted.\")"
   ]
  },
  {
   "cell_type": "code",
   "execution_count": null,
   "id": "617d8f5d-1800-4df3-a3f4-6a45192571be",
   "metadata": {},
   "outputs": [],
   "source": []
  }
 ],
 "metadata": {
  "kernelspec": {
   "display_name": "Python 3 (ipykernel)",
   "language": "python",
   "name": "python3"
  },
  "language_info": {
   "codemirror_mode": {
    "name": "ipython",
    "version": 3
   },
   "file_extension": ".py",
   "mimetype": "text/x-python",
   "name": "python",
   "nbconvert_exporter": "python",
   "pygments_lexer": "ipython3",
   "version": "3.11.4"
  }
 },
 "nbformat": 4,
 "nbformat_minor": 5
}
